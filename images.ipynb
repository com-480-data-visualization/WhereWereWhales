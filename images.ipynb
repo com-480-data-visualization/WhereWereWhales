{
 "cells": [
  {
   "cell_type": "markdown",
   "metadata": {},
   "source": [
    "## Scrapping images of cetaceans from Wikipedia page"
   ]
  },
  {
   "cell_type": "code",
   "execution_count": 1,
   "metadata": {},
   "outputs": [],
   "source": [
    "import pandas as pd"
   ]
  },
  {
   "cell_type": "code",
   "execution_count": 29,
   "metadata": {},
   "outputs": [],
   "source": [
    "path_1 = \"data/HappyWhales/location_cetacea_full_info.csv\"\n",
    "path_2 = \"data/HappyWhales/obis_seamap_custom_part1_points_csv.csv\"\n",
    "\n",
    "# columns_to_keep_df1 = COLUMNS_TO_KEEP_1\n",
    "# columns_to_keep_df2 = COLUMNS_TO_KEEP_2 \n",
    "\n",
    "MAPPING = {\n",
    "            'scientific': 'scientific_name',\n",
    "            'common': 'common_name',\n",
    "            \"sp_code\" : 'species_name',\n",
    "            'tsn': 'itis_tsn',\n",
    "            'count': 'individual_count',\n",
    "            'obs_date': 'event_date',\n",
    "            'oid' : 'organism_id'\n",
    "            }\n",
    "\n",
    "column_mapping = MAPPING"
   ]
  },
  {
   "cell_type": "code",
   "execution_count": null,
   "metadata": {},
   "outputs": [
    {
     "data": {
      "text/plain": [
       "array(['Humpback Whale', 'Northern bottlenose whale', 'Franciscana',\n",
       "       'Gray Whale', \"Arnoux's Beaked Whale\", 'Killer Whale',\n",
       "       \"Dall's Porpoise\", 'Fin Whale', 'Harbor Porpoise', 'Minke Whale',\n",
       "       'Atlantic White-sided Dolphin', 'Blue Whale',\n",
       "       \"Baird's Beaked Whale\", 'Bottlenose Dolphin', 'Dwarf sperm whale',\n",
       "       \"Bryde's whale\", 'Atlantic Spotted Dolphin', 'False Killer Whale',\n",
       "       'Long-finned Pilot Whale', 'North Atlantic Right Whale',\n",
       "       'Hourglass Dolphin', \"Commerson's Dolphin\",\n",
       "       \"Cuvier's beaked whale\", \"Haviside's Dolphin\",\n",
       "       'Indian humpback dolphin', \"Omurai's Whale\", 'Common minke whale',\n",
       "       'Beluga', 'Bowhead', \"Cuvier's Beaked Whale\",\n",
       "       'Northern Right Whale Dolphin', 'Melon-headed Whale',\n",
       "       \"Hector's Dolphin\", 'Dusky Dolphin', 'Black Dolphin',\n",
       "       \"Layard's beaked whale\", 'Clymene Dolphin',\n",
       "       \"Blainville's Beaked Whale\", \"Burmeister's porpoise\",\n",
       "       \"Gervais' beaked whale\", 'Amazon River Dolphin',\n",
       "       'Irrawaddy dolphin', \"Fraser's dolphin\", 'Gray whale',\n",
       "       'North Pacific Right Whale', 'Narwhal'], dtype=object)"
      ]
     },
     "execution_count": 32,
     "metadata": {},
     "output_type": "execute_result"
    }
   ],
   "source": [
    "df_location_1 = pd.read_csv(path_1, encoding=\"utf-8\")\n",
    "#df_location_1['organism_id'] = df_location_1['organism_id'].str.extract(r'(\\d+)$')\n",
    "dataset_id = df_location_1[\"dataset_id\"].unique()\n",
    "\n",
    "df_location_2 = pd.read_csv(path_2, low_memory=False)\n",
    "#df_location_2 = df_location_2[~df_location_2[\"dataset_id\"].isin(dataset_id)][columns_to_keep_df2]\n",
    "\n",
    "df_location_2 = df_location_2.rename(columns=column_mapping)\n",
    "\n",
    "df_location = pd.concat([df_location_1, df_location_2], ignore_index=True)\n",
    "\n",
    "species_list = df_location['species_name'].dropna().unique()\n",
    "species_list"
   ]
  },
  {
   "cell_type": "code",
   "execution_count": 2,
   "metadata": {},
   "outputs": [
    {
     "data": {
      "application/vnd.microsoft.datawrangler.viewer.v0+json": {
       "columns": [
        {
         "name": "AphiaID",
         "rawType": "int64",
         "type": "integer"
        },
        {
         "name": "Description",
         "rawType": "object",
         "type": "string"
        },
        {
         "name": "Common name",
         "rawType": "object",
         "type": "unknown"
        }
       ],
       "conversionMethod": "pd.DataFrame",
       "ref": "260f3a69-53b8-4739-864b-1882f6feebcf",
       "rows": [
        [
         "105740",
         "Alopias",
         "Thresher shark"
        ],
        [
         "105835",
         "Alopias superciliosus",
         "Bigeye thresher shark"
        ],
        [
         "105836",
         "Alopias vulpinus",
         "common thresher shark"
        ],
        [
         "231390",
         "Arctocephalus ",
         null
        ],
        [
         "231435",
         "Arctocephalus australis",
         "South American fur seal"
        ],
        [
         "255008",
         "Arctocephalus galapagoensis",
         "Galápagos fur seal"
        ],
        [
         "231404",
         "Arctocephalus gazella",
         "Antarctic fur seal"
        ],
        [
         "255006",
         "Arctocephalus philippii ",
         "Juan Fernandez fur seal"
        ],
        [
         "231410",
         "Arctocephalus pusillus",
         "Cape fur seal"
        ],
        [
         "231432",
         "Arctocephalus tropicalis",
         "subantarctic fur seal"
        ],
        [
         "137086",
         "Balaena mysticetus",
         "Bowhead whale"
        ],
        [
         "136978",
         "Balaenidae",
         "Right and bowhead whales"
        ],
        [
         "137087",
         "Balaenoptera acutorostrata",
         "Common minke whale"
        ],
        [
         "231405",
         "Balaenoptera bonaerensis",
         "Antarctic minke whale"
        ],
        [
         "137088",
         "Balaenoptera borealis",
         "Sei whale"
        ],
        [
         "137089",
         "Balaenoptera edeni",
         "Bryde's whale"
        ],
        [
         "137090",
         "Balaenoptera musculus",
         "Blue whale"
        ],
        [
         "343896",
         "Balaenoptera omurai",
         "Omura's whale"
        ],
        [
         "137091",
         "Balaenoptera physalus",
         "Fin whale"
        ],
        [
         "136979",
         "Balaenopteridae ",
         "Rorquals"
        ],
        [
         "242606",
         "Berardius arnuxii",
         "Arnoux's beaked whale"
        ],
        [
         "242608",
         "Berardius bairdii",
         "Baird's beaked whale"
        ],
        [
         "254996",
         "Callorhinus ",
         null
        ],
        [
         "254997",
         "Callorhinus ursinus",
         "northern fur seal"
        ],
        [
         "231424",
         "Caperea marginata",
         "Pygmy right whale"
        ],
        [
         "137066",
         "Caretta ",
         null
        ],
        [
         "137205",
         "Caretta caretta",
         "loggerhead turtle"
        ],
        [
         "254976",
         "Cephalorhynchus commersonii",
         "Commerson's dolphin"
        ],
        [
         "254977",
         "Cephalorhynchus eutropia",
         "Chilean dolphin"
        ],
        [
         "254978",
         "Cephalorhynchus heavisidii",
         "Heaviside's dolphin"
        ],
        [
         "254979",
         "Cephalorhynchus hectori",
         "Hector's dolphin"
        ],
        [
         "2688",
         "Cetacea",
         "Cetacean"
        ],
        [
         "105837",
         "Cetorhinus maximus",
         "Basking shark"
        ],
        [
         "137067",
         "Chelonia ",
         null
        ],
        [
         "137206",
         "Chelonia mydas",
         "green turtle"
        ],
        [
         "987094",
         "Chelonioidea ",
         "Marine turtles"
        ],
        [
         "137006",
         "Cystophora",
         null
        ],
        [
         "137078",
         "Cystophora cristata",
         "Hooded Seal"
        ],
        [
         "137115",
         "Delphinapterus leucas",
         "Beluga"
        ],
        [
         "136980",
         "Delphinidae",
         "Dolphin"
        ],
        [
         "137094",
         "Delphinus delphis",
         "Common dolphin"
        ],
        [
         "137000",
         "Dermochelyidae ",
         null
        ],
        [
         "137070",
         "Dermochelys",
         "leatherback sea turtles"
        ],
        [
         "137209",
         "Dermochelys coriacea",
         "leatherback turtle"
        ],
        [
         "242597",
         "Enhydra",
         "Sea otter"
        ],
        [
         "242598",
         "Enhydra lutris",
         "Sea otter"
        ],
        [
         "137068",
         "Eretmochelys ",
         null
        ],
        [
         "137207",
         "Eretmochelys imbricata",
         "hawksbill turtle"
        ],
        [
         "137007",
         "Erignathus",
         null
        ],
        [
         "137079",
         "Erignathus barbatus",
         "Bearded Seal"
        ]
       ],
       "shape": {
        "columns": 2,
        "rows": 187
       }
      },
      "text/html": [
       "<div>\n",
       "<style scoped>\n",
       "    .dataframe tbody tr th:only-of-type {\n",
       "        vertical-align: middle;\n",
       "    }\n",
       "\n",
       "    .dataframe tbody tr th {\n",
       "        vertical-align: top;\n",
       "    }\n",
       "\n",
       "    .dataframe thead th {\n",
       "        text-align: right;\n",
       "    }\n",
       "</style>\n",
       "<table border=\"1\" class=\"dataframe\">\n",
       "  <thead>\n",
       "    <tr style=\"text-align: right;\">\n",
       "      <th></th>\n",
       "      <th>Description</th>\n",
       "      <th>Common name</th>\n",
       "    </tr>\n",
       "    <tr>\n",
       "      <th>AphiaID</th>\n",
       "      <th></th>\n",
       "      <th></th>\n",
       "    </tr>\n",
       "  </thead>\n",
       "  <tbody>\n",
       "    <tr>\n",
       "      <th>105740</th>\n",
       "      <td>Alopias</td>\n",
       "      <td>Thresher shark</td>\n",
       "    </tr>\n",
       "    <tr>\n",
       "      <th>105835</th>\n",
       "      <td>Alopias superciliosus</td>\n",
       "      <td>Bigeye thresher shark</td>\n",
       "    </tr>\n",
       "    <tr>\n",
       "      <th>105836</th>\n",
       "      <td>Alopias vulpinus</td>\n",
       "      <td>common thresher shark</td>\n",
       "    </tr>\n",
       "    <tr>\n",
       "      <th>231390</th>\n",
       "      <td>Arctocephalus</td>\n",
       "      <td>NaN</td>\n",
       "    </tr>\n",
       "    <tr>\n",
       "      <th>231435</th>\n",
       "      <td>Arctocephalus australis</td>\n",
       "      <td>South American fur seal</td>\n",
       "    </tr>\n",
       "    <tr>\n",
       "      <th>...</th>\n",
       "      <td>...</td>\n",
       "      <td>...</td>\n",
       "    </tr>\n",
       "    <tr>\n",
       "      <th>255003</th>\n",
       "      <td>Zalophus californianus</td>\n",
       "      <td>California sea lion</td>\n",
       "    </tr>\n",
       "    <tr>\n",
       "      <th>255004</th>\n",
       "      <td>Zalophus japonicus</td>\n",
       "      <td>Japanese sea lion</td>\n",
       "    </tr>\n",
       "    <tr>\n",
       "      <th>255005</th>\n",
       "      <td>Zalophus wollebaeki</td>\n",
       "      <td>Galápagos sea lion</td>\n",
       "    </tr>\n",
       "    <tr>\n",
       "      <th>136986</th>\n",
       "      <td>Ziphiidae</td>\n",
       "      <td>Beaked whales</td>\n",
       "    </tr>\n",
       "    <tr>\n",
       "      <th>137127</th>\n",
       "      <td>Ziphius cavirostris</td>\n",
       "      <td>Cuvier's beaked whale</td>\n",
       "    </tr>\n",
       "  </tbody>\n",
       "</table>\n",
       "<p>187 rows × 2 columns</p>\n",
       "</div>"
      ],
      "text/plain": [
       "                     Description              Common name\n",
       "AphiaID                                                  \n",
       "105740                   Alopias           Thresher shark\n",
       "105835     Alopias superciliosus    Bigeye thresher shark\n",
       "105836          Alopias vulpinus    common thresher shark\n",
       "231390            Arctocephalus                       NaN\n",
       "231435   Arctocephalus australis  South American fur seal\n",
       "...                          ...                      ...\n",
       "255003    Zalophus californianus      California sea lion\n",
       "255004        Zalophus japonicus        Japanese sea lion\n",
       "255005      Zalophus wollebaeki        Galápagos sea lion\n",
       "136986                 Ziphiidae            Beaked whales\n",
       "137127       Ziphius cavirostris    Cuvier's beaked whale\n",
       "\n",
       "[187 rows x 2 columns]"
      ]
     },
     "execution_count": 2,
     "metadata": {},
     "output_type": "execute_result"
    }
   ],
   "source": [
    "IDs_and_names = pd.read_csv(\"images_and_sounds/aphiaIDs_and_names.csv\").set_index(\"AphiaID\")\n",
    "IDs_and_names"
   ]
  },
  {
   "cell_type": "code",
   "execution_count": 33,
   "metadata": {},
   "outputs": [
    {
     "name": "stderr",
     "output_type": "stream",
     "text": [
      "Scraping Wikipedia images:   2%|▏         | 1/46 [00:28<21:07, 28.17s/pages]"
     ]
    },
    {
     "name": "stdout",
     "output_type": "stream",
     "text": [
      "No image found for Humpback Whale :(\n"
     ]
    },
    {
     "name": "stderr",
     "output_type": "stream",
     "text": [
      "Scraping Wikipedia images:   7%|▋         | 3/46 [00:29<04:53,  6.81s/pages]"
     ]
    },
    {
     "name": "stdout",
     "output_type": "stream",
     "text": [
      "No image found for Franciscana :(\n"
     ]
    },
    {
     "name": "stderr",
     "output_type": "stream",
     "text": [
      "Scraping Wikipedia images:   9%|▊         | 4/46 [00:30<02:59,  4.28s/pages]"
     ]
    },
    {
     "name": "stdout",
     "output_type": "stream",
     "text": [
      "No image found for Gray Whale :(\n"
     ]
    },
    {
     "name": "stderr",
     "output_type": "stream",
     "text": [
      "Scraping Wikipedia images:  11%|█         | 5/46 [00:30<01:58,  2.88s/pages]"
     ]
    },
    {
     "name": "stdout",
     "output_type": "stream",
     "text": [
      "No image found for Arnoux's Beaked Whale :(\n"
     ]
    },
    {
     "name": "stderr",
     "output_type": "stream",
     "text": [
      "Scraping Wikipedia images:  13%|█▎        | 6/46 [00:30<01:21,  2.03s/pages]"
     ]
    },
    {
     "name": "stdout",
     "output_type": "stream",
     "text": [
      "No image found for Killer Whale :(\n"
     ]
    },
    {
     "name": "stderr",
     "output_type": "stream",
     "text": [
      "Scraping Wikipedia images:  15%|█▌        | 7/46 [00:31<00:58,  1.49s/pages]"
     ]
    },
    {
     "name": "stdout",
     "output_type": "stream",
     "text": [
      "No image found for Dall's Porpoise :(\n"
     ]
    },
    {
     "name": "stderr",
     "output_type": "stream",
     "text": [
      "Scraping Wikipedia images:  17%|█▋        | 8/46 [00:31<00:43,  1.14s/pages]"
     ]
    },
    {
     "name": "stdout",
     "output_type": "stream",
     "text": [
      "No image found for Fin Whale :(\n"
     ]
    },
    {
     "name": "stderr",
     "output_type": "stream",
     "text": [
      "Scraping Wikipedia images:  20%|█▉        | 9/46 [00:31<00:33,  1.10pages/s]"
     ]
    },
    {
     "name": "stdout",
     "output_type": "stream",
     "text": [
      "No image found for Harbor Porpoise :(\n"
     ]
    },
    {
     "name": "stderr",
     "output_type": "stream",
     "text": [
      "Scraping Wikipedia images:  22%|██▏       | 10/46 [00:32<00:26,  1.34pages/s]"
     ]
    },
    {
     "name": "stdout",
     "output_type": "stream",
     "text": [
      "No image found for Minke Whale :(\n"
     ]
    },
    {
     "name": "stderr",
     "output_type": "stream",
     "text": [
      "Scraping Wikipedia images:  24%|██▍       | 11/46 [00:32<00:22,  1.57pages/s]"
     ]
    },
    {
     "name": "stdout",
     "output_type": "stream",
     "text": [
      "No image found for Atlantic White-sided Dolphin :(\n"
     ]
    },
    {
     "name": "stderr",
     "output_type": "stream",
     "text": [
      "Scraping Wikipedia images:  26%|██▌       | 12/46 [00:33<00:19,  1.75pages/s]"
     ]
    },
    {
     "name": "stdout",
     "output_type": "stream",
     "text": [
      "No image found for Blue Whale :(\n"
     ]
    },
    {
     "name": "stderr",
     "output_type": "stream",
     "text": [
      "Scraping Wikipedia images:  28%|██▊       | 13/46 [00:33<00:17,  1.92pages/s]"
     ]
    },
    {
     "name": "stdout",
     "output_type": "stream",
     "text": [
      "No image found for Baird's Beaked Whale :(\n"
     ]
    },
    {
     "name": "stderr",
     "output_type": "stream",
     "text": [
      "Scraping Wikipedia images:  30%|███       | 14/46 [00:33<00:15,  2.05pages/s]"
     ]
    },
    {
     "name": "stdout",
     "output_type": "stream",
     "text": [
      "No image found for Bottlenose Dolphin :(\n"
     ]
    },
    {
     "name": "stderr",
     "output_type": "stream",
     "text": [
      "Scraping Wikipedia images:  37%|███▋      | 17/46 [00:36<00:17,  1.67pages/s]"
     ]
    },
    {
     "name": "stdout",
     "output_type": "stream",
     "text": [
      "No image found for Atlantic Spotted Dolphin :(\n"
     ]
    },
    {
     "name": "stderr",
     "output_type": "stream",
     "text": [
      "Scraping Wikipedia images:  39%|███▉      | 18/46 [00:36<00:15,  1.85pages/s]"
     ]
    },
    {
     "name": "stdout",
     "output_type": "stream",
     "text": [
      "No image found for False Killer Whale :(\n"
     ]
    },
    {
     "name": "stderr",
     "output_type": "stream",
     "text": [
      "Scraping Wikipedia images:  41%|████▏     | 19/46 [00:37<00:13,  2.02pages/s]"
     ]
    },
    {
     "name": "stdout",
     "output_type": "stream",
     "text": [
      "No image found for Long-finned Pilot Whale :(\n"
     ]
    },
    {
     "name": "stderr",
     "output_type": "stream",
     "text": [
      "Scraping Wikipedia images:  43%|████▎     | 20/46 [00:37<00:11,  2.19pages/s]"
     ]
    },
    {
     "name": "stdout",
     "output_type": "stream",
     "text": [
      "No image found for North Atlantic Right Whale :(\n"
     ]
    },
    {
     "name": "stderr",
     "output_type": "stream",
     "text": [
      "Scraping Wikipedia images:  46%|████▌     | 21/46 [00:37<00:10,  2.33pages/s]"
     ]
    },
    {
     "name": "stdout",
     "output_type": "stream",
     "text": [
      "No image found for Hourglass Dolphin :(\n"
     ]
    },
    {
     "name": "stderr",
     "output_type": "stream",
     "text": [
      "Scraping Wikipedia images:  48%|████▊     | 22/46 [00:38<00:10,  2.36pages/s]"
     ]
    },
    {
     "name": "stdout",
     "output_type": "stream",
     "text": [
      "No image found for Commerson's Dolphin :(\n"
     ]
    },
    {
     "name": "stderr",
     "output_type": "stream",
     "text": [
      "Scraping Wikipedia images:  52%|█████▏    | 24/46 [00:39<00:13,  1.64pages/s]"
     ]
    },
    {
     "name": "stdout",
     "output_type": "stream",
     "text": [
      "No image found for Haviside's Dolphin :(\n"
     ]
    },
    {
     "name": "stderr",
     "output_type": "stream",
     "text": [
      "Scraping Wikipedia images:  54%|█████▍    | 25/46 [00:40<00:12,  1.72pages/s]"
     ]
    },
    {
     "name": "stdout",
     "output_type": "stream",
     "text": [
      "No image found for Indian humpback dolphin :(\n"
     ]
    },
    {
     "name": "stderr",
     "output_type": "stream",
     "text": [
      "Scraping Wikipedia images:  57%|█████▋    | 26/46 [00:40<00:10,  1.91pages/s]"
     ]
    },
    {
     "name": "stdout",
     "output_type": "stream",
     "text": [
      "No image found for Omurai's Whale :(\n"
     ]
    },
    {
     "name": "stderr",
     "output_type": "stream",
     "text": [
      "Scraping Wikipedia images:  61%|██████    | 28/46 [00:41<00:09,  1.92pages/s]"
     ]
    },
    {
     "name": "stdout",
     "output_type": "stream",
     "text": [
      "No image found for Beluga :(\n"
     ]
    },
    {
     "name": "stderr",
     "output_type": "stream",
     "text": [
      "Scraping Wikipedia images:  63%|██████▎   | 29/46 [00:42<00:08,  2.08pages/s]"
     ]
    },
    {
     "name": "stdout",
     "output_type": "stream",
     "text": [
      "No image found for Bowhead :(\n"
     ]
    },
    {
     "name": "stderr",
     "output_type": "stream",
     "text": [
      "Scraping Wikipedia images:  65%|██████▌   | 30/46 [00:42<00:07,  2.18pages/s]"
     ]
    },
    {
     "name": "stdout",
     "output_type": "stream",
     "text": [
      "No image found for Cuvier's Beaked Whale :(\n"
     ]
    },
    {
     "name": "stderr",
     "output_type": "stream",
     "text": [
      "Scraping Wikipedia images:  67%|██████▋   | 31/46 [00:43<00:06,  2.30pages/s]"
     ]
    },
    {
     "name": "stdout",
     "output_type": "stream",
     "text": [
      "No image found for Northern Right Whale Dolphin :(\n"
     ]
    },
    {
     "name": "stderr",
     "output_type": "stream",
     "text": [
      "Scraping Wikipedia images:  70%|██████▉   | 32/46 [00:43<00:06,  2.32pages/s]"
     ]
    },
    {
     "name": "stdout",
     "output_type": "stream",
     "text": [
      "No image found for Melon-headed Whale :(\n"
     ]
    },
    {
     "name": "stderr",
     "output_type": "stream",
     "text": [
      "Scraping Wikipedia images:  72%|███████▏  | 33/46 [00:43<00:05,  2.40pages/s]"
     ]
    },
    {
     "name": "stdout",
     "output_type": "stream",
     "text": [
      "No image found for Hector's Dolphin :(\n"
     ]
    },
    {
     "name": "stderr",
     "output_type": "stream",
     "text": [
      "Scraping Wikipedia images:  74%|███████▍  | 34/46 [00:44<00:04,  2.40pages/s]"
     ]
    },
    {
     "name": "stdout",
     "output_type": "stream",
     "text": [
      "No image found for Dusky Dolphin :(\n"
     ]
    },
    {
     "name": "stderr",
     "output_type": "stream",
     "text": [
      "Scraping Wikipedia images:  76%|███████▌  | 35/46 [00:44<00:04,  2.48pages/s]"
     ]
    },
    {
     "name": "stdout",
     "output_type": "stream",
     "text": [
      "No image found for Black Dolphin :(\n"
     ]
    },
    {
     "name": "stderr",
     "output_type": "stream",
     "text": [
      "Scraping Wikipedia images:  78%|███████▊  | 36/46 [00:45<00:04,  2.25pages/s]"
     ]
    },
    {
     "name": "stdout",
     "output_type": "stream",
     "text": [
      "No image found for Layard's beaked whale :(\n"
     ]
    },
    {
     "name": "stderr",
     "output_type": "stream",
     "text": [
      "Scraping Wikipedia images:  80%|████████  | 37/46 [00:45<00:04,  1.92pages/s]"
     ]
    },
    {
     "name": "stdout",
     "output_type": "stream",
     "text": [
      "No image found for Clymene Dolphin :(\n"
     ]
    },
    {
     "name": "stderr",
     "output_type": "stream",
     "text": [
      "Scraping Wikipedia images:  83%|████████▎ | 38/46 [00:46<00:04,  1.91pages/s]"
     ]
    },
    {
     "name": "stdout",
     "output_type": "stream",
     "text": [
      "No image found for Blainville's Beaked Whale :(\n"
     ]
    },
    {
     "name": "stderr",
     "output_type": "stream",
     "text": [
      "Scraping Wikipedia images:  87%|████████▋ | 40/46 [00:47<00:03,  1.75pages/s]"
     ]
    },
    {
     "name": "stdout",
     "output_type": "stream",
     "text": [
      "No image found for Gervais' beaked whale :(\n"
     ]
    },
    {
     "name": "stderr",
     "output_type": "stream",
     "text": [
      "Scraping Wikipedia images:  89%|████████▉ | 41/46 [00:48<00:02,  1.91pages/s]"
     ]
    },
    {
     "name": "stdout",
     "output_type": "stream",
     "text": [
      "No image found for Amazon River Dolphin :(\n"
     ]
    },
    {
     "name": "stderr",
     "output_type": "stream",
     "text": [
      "Scraping Wikipedia images:  98%|█████████▊| 45/46 [00:54<00:01,  1.43s/pages]"
     ]
    },
    {
     "name": "stdout",
     "output_type": "stream",
     "text": [
      "No image found for North Pacific Right Whale :(\n"
     ]
    },
    {
     "name": "stderr",
     "output_type": "stream",
     "text": [
      "Scraping Wikipedia images: 100%|██████████| 46/46 [00:55<00:00,  1.21s/pages]"
     ]
    },
    {
     "name": "stdout",
     "output_type": "stream",
     "text": [
      "All done!\n"
     ]
    },
    {
     "name": "stderr",
     "output_type": "stream",
     "text": [
      "\n"
     ]
    }
   ],
   "source": [
    "import requests, os\n",
    "from tqdm import tqdm\n",
    "\n",
    "# Set the folder name where images will be stored\n",
    "my_folder = 'wiki_images'\n",
    "os.makedirs(my_folder, exist_ok=True)\n",
    "\n",
    "# Base URL for Wikipedia API\n",
    "query = 'http://en.wikipedia.org/w/api.php?action=query&prop=pageimages&format=json&piprop=original&titles='\n",
    "\n",
    "# Wikipedia article to download the main image from\n",
    "my_list = species_list#IDs_and_names[\"Common name\"].dropna().tolist()\n",
    "\n",
    "# Define User-Agent header to respect Wikipedia's user-client policy :,)\n",
    "HEADERS = {\n",
    "    \"User-Agent\": \"WhereWereWhales: cetaceans images from Wikipedia\"\n",
    "}\n",
    "\n",
    "\n",
    "def get_image_url(partial_url):\n",
    "    \"\"\" Gets the main image URL from a Wikipedia article \"\"\"\n",
    "    try:\n",
    "        api_res = requests.get(query + partial_url, headers=HEADERS).json()\n",
    "        first_part = api_res['query']['pages']\n",
    "        for key, value in first_part.items():\n",
    "            if 'original' in value:\n",
    "                return value['original']['source']\n",
    "    except Exception as exc:\n",
    "        print(exc)\n",
    "        print(\"Partial URL: \" + partial_url)\n",
    "    return None\n",
    "\n",
    "\n",
    "def download_image(the_url, the_page):\n",
    "    res = requests.get(the_url, headers=HEADERS) \n",
    "    res.raise_for_status()\n",
    "    \n",
    "    if res.status_code != 200:\n",
    "        print(f\"Error scraping {the_page}: {res.status_code}\")\n",
    "\n",
    "    # Get the correct file extension\n",
    "    file_ext = '.' + the_url.split('.')[-1].lower()\n",
    "    image_file = os.path.join(my_folder, os.path.basename(the_page + file_ext))\n",
    "\n",
    "    # Save the image\n",
    "    with open(image_file, 'wb') as f:\n",
    "        for chunk in res.iter_content(100000):\n",
    "            f.write(chunk)\n",
    "\n",
    "    #print(f\"Downloaded: {image_file}\")\n",
    "\n",
    "# Download images from Wikipedia articles\n",
    "for the_page in tqdm(my_list, desc=\"Scraping Wikipedia images\", unit=\"pages\"):\n",
    "    the_url = get_image_url(the_page)\n",
    "    if the_url:\n",
    "        #print(f\"Downloading an image of a magnificent {the_page}...\")\n",
    "        download_image(the_url, the_page)\n",
    "    else:\n",
    "        print(f\"No image found for {the_page} :(\")\n",
    "\n",
    "print(\"All done!\")\n"
   ]
  },
  {
   "cell_type": "code",
   "execution_count": null,
   "metadata": {},
   "outputs": [],
   "source": []
  }
 ],
 "metadata": {
  "kernelspec": {
   "display_name": "outlier",
   "language": "python",
   "name": "python3"
  },
  "language_info": {
   "codemirror_mode": {
    "name": "ipython",
    "version": 3
   },
   "file_extension": ".py",
   "mimetype": "text/x-python",
   "name": "python",
   "nbconvert_exporter": "python",
   "pygments_lexer": "ipython3",
   "version": "3.11.8"
  }
 },
 "nbformat": 4,
 "nbformat_minor": 2
}
